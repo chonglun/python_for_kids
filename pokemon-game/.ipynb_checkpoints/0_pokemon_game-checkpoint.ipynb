{
 "cells": [
  {
   "cell_type": "code",
   "execution_count": 1,
   "metadata": {},
   "outputs": [],
   "source": [
    "import random\n",
    "from IPython.display import clear_output\n",
    "from IPython.core.display import Image, display,HTML\n",
    "from os import listdir\n",
    "from os.path import isfile, join\n",
    "def get_imagepath(input):\n",
    "    mypath = f'{input}'\n",
    "    files = [join(mypath, f) for f in listdir(mypath) if isfile(join(mypath, f))]\n",
    "    return files[random.randint(0,len(files)-1)]\n",
    "\n",
    "def make_html(image_path1,image_path2):\n",
    "     return '<img src=\"{}\" style=\"display:inline;margin:1px\" height=\"200\" width=\"200\"/> v.s <img src=\"{}\" style=\"display:inline;margin:1px\" height=\"200\" width=\"200\"/>'.format(image_path1,image_path2)\n",
    "        \n",
    "def show_result(choice,c_choice):\n",
    "    display(HTML(''.join(make_html(get_imagepath(choice),get_imagepath(c_choice)))))   "
   ]
  },
  {
   "cell_type": "code",
   "execution_count": 4,
   "metadata": {},
   "outputs": [
    {
     "name": "stdout",
     "output_type": "stream",
     "text": [
      "請問要派出什麼神奇寶貝？ 0.妙蛙種子 1.小火龍 2.傑尼龜 2\n",
      "你派出了傑尼龜！\n",
      "對方妙蛙種子，屬性相剋！你輸了！\n"
     ]
    },
    {
     "data": {
      "text/html": [
       "<img src=\"2/2.jpg\" style=\"display:inline;margin:1px\" height=\"200\" width=\"200\"/> v.s <img src=\"0/ly381.gif\" style=\"display:inline;margin:1px\" height=\"200\" width=\"200\"/>"
      ],
      "text/plain": [
       "<IPython.core.display.HTML object>"
      ]
     },
     "metadata": {},
     "output_type": "display_data"
    },
    {
     "name": "stdout",
     "output_type": "stream",
     "text": [
      "是否開始對戰？ 0.開始對戰 1.走為上策1\n",
      "遊戲結束\n"
     ]
    }
   ],
   "source": [
    "def play_pokemon():\n",
    "    c_choice = random.randint(0,2)\n",
    "    choice = int(input('請問要派出什麼神奇寶貝？ 0.妙蛙種子 1.小火龍 2.傑尼龜 '))\n",
    "\n",
    "    if choice == 0:\n",
    "        print('你派出了妙蛙種子！')\n",
    "        if c_choice == 0:\n",
    "            print('對方妙蛙種子，平分秋色！')\n",
    "        elif c_choice == 1:\n",
    "            print('對方派出小火龍，屬性相剋！你輸了！')\n",
    "        elif c_choice == 2:\n",
    "            print('對方派出傑尼龜，耶，你贏了！')\n",
    "    elif choice == 1:\n",
    "        print('你派出了小火龍！')\n",
    "        if c_choice == 0:\n",
    "            print('對方妙蛙種子，耶，你贏了！')\n",
    "        elif c_choice == 1:\n",
    "            print('對方派出小火龍，平分秋色！')\n",
    "        elif c_choice == 2:\n",
    "            print('對方派出傑尼龜，屬性相剋！你輸了！')\n",
    "    elif choice == 2:\n",
    "        print('你派出了傑尼龜！')\n",
    "        if c_choice == 0:\n",
    "            print('對方妙蛙種子，屬性相剋！你輸了！')\n",
    "        elif c_choice == 1:\n",
    "            print('對方派出小火龍，耶，你贏了！')\n",
    "        elif c_choice == 2:\n",
    "            print('對方派出傑尼龜，平分秋色！')\n",
    "    \n",
    "    show_result(choice, c_choice)\n",
    "\n",
    "while (1):\n",
    "    try:\n",
    "        clear_output()\n",
    "        play_pokemon()\n",
    "        command = int(input('是否開始對戰？ 0.開始對戰 1.走為上策'))\n",
    "        if command == 1:\n",
    "            print('遊戲結束')\n",
    "            break\n",
    "    except:\n",
    "        print('error')\n"
   ]
  },
  {
   "cell_type": "code",
   "execution_count": null,
   "metadata": {},
   "outputs": [],
   "source": []
  }
 ],
 "metadata": {
  "kernelspec": {
   "display_name": "Python 3",
   "language": "python",
   "name": "python3"
  },
  "language_info": {
   "codemirror_mode": {
    "name": "ipython",
    "version": 3
   },
   "file_extension": ".py",
   "mimetype": "text/x-python",
   "name": "python",
   "nbconvert_exporter": "python",
   "pygments_lexer": "ipython3",
   "version": "3.7.3"
  }
 },
 "nbformat": 4,
 "nbformat_minor": 2
}
